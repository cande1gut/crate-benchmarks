{
 "cells": [
  {
   "cell_type": "code",
   "execution_count": 6,
   "metadata": {
    "collapsed": true
   },
   "outputs": [],
   "source": [
    "from crate.client import connect\n",
    "\n",
    "conn = connect('localhost:4201')\n",
    "cursor = conn.cursor()"
   ]
  },
  {
   "cell_type": "code",
   "execution_count": 14,
   "metadata": {
    "collapsed": true
   },
   "outputs": [],
   "source": [
    "%matplotlib inline\n",
    "import matplotlib.pyplot as plt\n",
    "import numpy as np"
   ]
  },
  {
   "cell_type": "code",
   "execution_count": 51,
   "metadata": {
    "collapsed": false,
    "scrolled": false
   },
   "outputs": [
    {
     "data": {
      "text/plain": [
       "(array([ 200.,  440.,  295.,   57.,    4.,    0.,    0.,    2.,    1.,    1.]),\n",
       " array([    0. ,   349.5,   699. ,  1048.5,  1398. ,  1747.5,  2097. ,\n",
       "         2446.5,  2796. ,  3145.5,  3495. ]),\n",
       " <a list of 10 Patch objects>)"
      ]
     },
     "execution_count": 51,
     "metadata": {},
     "output_type": "execute_result"
    },
    {
     "data": {
      "image/png": "[encoded data removed]",
      "text/plain": [
       "<matplotlib.figure.Figure at 0x7f786572a208>"
      ]
     },
     "metadata": {},
     "output_type": "display_data"
    }
   ],
   "source": [
    "cursor.execute('select runtime_stats from benchmarks order by ended desc limit 1')\n",
    "last_result = cursor.fetchone()[0]\n",
    "values = last_result['values']\n",
    "plt.hist(values)"
   ]
  },
  {
   "cell_type": "code",
   "execution_count": 52,
   "metadata": {
    "collapsed": false
   },
   "outputs": [
    {
     "data": {
      "text/plain": [
       "(array([ 4.,  0.,  0.,  0.,  0.,  0.,  0.,  0.,  0.,  0.,  0.,  0.,  0.,\n",
       "         0.,  0.,  0.,  0.,  0.,  0.,  0.,  0.,  0.,  0.,  0.,  0.,  0.,\n",
       "         0.,  0.,  0.,  0.]),\n",
       " array([  113.96091593,   227.92183186,   341.8827478 ,   455.84366373,\n",
       "          569.80457966,   683.76549559,   797.72641153,   911.68732746,\n",
       "         1025.64824339,  1139.60915932,  1253.57007525,  1367.53099119,\n",
       "         1481.49190712,  1595.45282305,  1709.41373898,  1823.37465492,\n",
       "         1937.33557085,  2051.29648678,  2165.25740271,  2279.21831864,\n",
       "         2393.17923458,  2507.14015051,  2621.10106644,  2735.06198237,\n",
       "         2849.02289831,  2962.98381424,  3076.94473017,  3190.9056461 ,\n",
       "         3304.86656203,  3418.82747797,  3532.7883939 ]),\n",
       " <a list of 30 Patch objects>)"
      ]
     },
     "execution_count": 52,
     "metadata": {},
     "output_type": "execute_result"
    },
    {
     "data": {
      "image/png": "[encoded data removed]",
      "text/plain": [
       "<matplotlib.figure.Figure at 0x7f786543f0b8>"
      ]
     },
     "metadata": {},
     "output_type": "display_data"
    }
   ],
   "source": [
    "plt.hist(\n",
    "    [i['num'] for i in last_result['hist']],\n",
    "    bins=[i['bin'] for i in last_result['hist']]\n",
    ")"
   ]
  },
  {
   "cell_type": "code",
   "execution_count": 54,
   "metadata": {
    "collapsed": false
   },
   "outputs": [
    {
     "data": {
      "text/plain": [
       "[<matplotlib.lines.Line2D at 0x7f786529aa58>]"
      ]
     },
     "execution_count": 54,
     "metadata": {},
     "output_type": "execute_result"
    },
    {
     "data": {
      "image/png": "[encoded data removed]",
      "text/plain": [
       "<matplotlib.figure.Figure at 0x7f78653d3198>"
      ]
     },
     "metadata": {},
     "output_type": "display_data"
    }
   ],
   "source": [
    "plt.plot(values)"
   ]
  }
 ],
 "metadata": {
  "kernelspec": {
   "display_name": "Python 3",
   "language": "python",
   "name": "python3"
  },
  "language_info": {
   "codemirror_mode": {
    "name": "ipython",
    "version": 3
   },
   "file_extension": ".py",
   "mimetype": "text/x-python",
   "name": "python",
   "nbconvert_exporter": "python",
   "pygments_lexer": "ipython3",
   "version": "3.5.1"
  }
 },
 "nbformat": 4,
 "nbformat_minor": 0
}
